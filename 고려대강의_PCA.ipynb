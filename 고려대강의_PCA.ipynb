{
  "nbformat": 4,
  "nbformat_minor": 0,
  "metadata": {
    "colab": {
      "provenance": [],
      "authorship_tag": "ABX9TyOvAHUSPm7ODYVGRHgWhD8A",
      "include_colab_link": true
    },
    "kernelspec": {
      "name": "python3",
      "display_name": "Python 3"
    },
    "language_info": {
      "name": "python"
    }
  },
  "cells": [
    {
      "cell_type": "markdown",
      "metadata": {
        "id": "view-in-github",
        "colab_type": "text"
      },
      "source": [
        "<a href=\"https://colab.research.google.com/github/Puer-Hyun/CodeTestPractice/blob/main/%EA%B3%A0%EB%A0%A4%EB%8C%80%EA%B0%95%EC%9D%98_PCA.ipynb\" target=\"_parent\"><img src=\"https://colab.research.google.com/assets/colab-badge.svg\" alt=\"Open In Colab\"/></a>"
      ]
    },
    {
      "cell_type": "code",
      "execution_count": 17,
      "metadata": {
        "id": "wlWyJt99n_X_"
      },
      "outputs": [],
      "source": [
        "import numpy as np\n",
        "import matplotlib.pyplot as plt\n"
      ]
    },
    {
      "cell_type": "code",
      "source": [
        "np.random.seed(42)\n",
        "X = np.random.randn(3, 20)"
      ],
      "metadata": {
        "id": "RTGkxR21oGIP"
      },
      "execution_count": 18,
      "outputs": []
    },
    {
      "cell_type": "code",
      "source": [
        "X"
      ],
      "metadata": {
        "colab": {
          "base_uri": "https://localhost:8080/"
        },
        "id": "hLMnTPRcoHm3",
        "outputId": "cc88f553-3ca9-44ea-b22f-93f53e8e7724"
      },
      "execution_count": 19,
      "outputs": [
        {
          "output_type": "execute_result",
          "data": {
            "text/plain": [
              "array([[ 0.49671415, -0.1382643 ,  0.64768854,  1.52302986, -0.23415337,\n",
              "        -0.23413696,  1.57921282,  0.76743473, -0.46947439,  0.54256004,\n",
              "        -0.46341769, -0.46572975,  0.24196227, -1.91328024, -1.72491783,\n",
              "        -0.56228753, -1.01283112,  0.31424733, -0.90802408, -1.4123037 ],\n",
              "       [ 1.46564877, -0.2257763 ,  0.0675282 , -1.42474819, -0.54438272,\n",
              "         0.11092259, -1.15099358,  0.37569802, -0.60063869, -0.29169375,\n",
              "        -0.60170661,  1.85227818, -0.01349722, -1.05771093,  0.82254491,\n",
              "        -1.22084365,  0.2088636 , -1.95967012, -1.32818605,  0.19686124],\n",
              "       [ 0.73846658,  0.17136828, -0.11564828, -0.3011037 , -1.47852199,\n",
              "        -0.71984421, -0.46063877,  1.05712223,  0.34361829, -1.76304016,\n",
              "         0.32408397, -0.38508228, -0.676922  ,  0.61167629,  1.03099952,\n",
              "         0.93128012, -0.83921752, -0.30921238,  0.33126343,  0.97554513]])"
            ]
          },
          "metadata": {},
          "execution_count": 19
        }
      ]
    },
    {
      "cell_type": "code",
      "source": [
        "#데이터 중앙화\n",
        "X_centered = X - X.mean(axis=1, keepdims=True)"
      ],
      "metadata": {
        "id": "LPM4GH-uoICW"
      },
      "execution_count": 20,
      "outputs": []
    },
    {
      "cell_type": "code",
      "source": [
        "'''mean_X = [[mean_x],  # 1차원의 평균\n",
        "          [mean_y],  # 2차원의 평균\n",
        "          [mean_z]]  # 3차원의 평균'''"
      ],
      "metadata": {
        "colab": {
          "base_uri": "https://localhost:8080/",
          "height": 54
        },
        "id": "z8_IEZEwoMwI",
        "outputId": "e2af708e-cabb-41fd-a403-342d4dd79e52"
      },
      "execution_count": 21,
      "outputs": [
        {
          "output_type": "execute_result",
          "data": {
            "text/plain": [
              "'mean_X = [[mean_x],  # 1차원의 평균\\n          [mean_y],  # 2차원의 평균\\n          [mean_z]]  # 3차원의 평균'"
            ],
            "application/vnd.google.colaboratory.intrinsic+json": {
              "type": "string"
            }
          },
          "metadata": {},
          "execution_count": 21
        }
      ]
    },
    {
      "cell_type": "code",
      "source": [
        "#공분산 행렬을 구함\n",
        "cov_matrix = np.cov(X_centered)"
      ],
      "metadata": {
        "id": "WJ1hS4BCoPv_"
      },
      "execution_count": 22,
      "outputs": []
    },
    {
      "cell_type": "code",
      "source": [
        "#공분산 행렬을 통해 고유값, 고유행렬을 구함\n",
        "eigenvalues, eigenvectors = np.linalg.eigh(cov_matrix)"
      ],
      "metadata": {
        "id": "YRYS6y4loVu6"
      },
      "execution_count": 23,
      "outputs": []
    },
    {
      "cell_type": "code",
      "source": [
        "#고유값이 가장 높은 차원을 구해내기 위해서 sorted를 진행함.\n",
        "sorted_indices = np.argsort(eigenvalues)[::-1]\n",
        "sorted_eigenvectors = eigenvectors[:, sorted_indices]"
      ],
      "metadata": {
        "id": "JjPIOq-XonBF"
      },
      "execution_count": 24,
      "outputs": []
    },
    {
      "cell_type": "code",
      "source": [
        "#고유값이 가장 높은 고유벡터 2개를 뽑아옴. 이것이 top_k_eigenvectors\n",
        "k = 2\n",
        "top_k_eigenvectors = sorted_eigenvectors[:, :k]"
      ],
      "metadata": {
        "id": "8C1s7-_xoo9B"
      },
      "execution_count": 25,
      "outputs": []
    },
    {
      "cell_type": "code",
      "source": [
        "#데이터를 중앙으로 맞춘 X_centered를 top_k_eigenvectors에 정사영을 시킴.\n",
        "X_pca_manual = (top_k_eigenvectors.T @ X_centered).T"
      ],
      "metadata": {
        "id": "EMFfr92Coqwn"
      },
      "execution_count": 13,
      "outputs": []
    },
    {
      "cell_type": "code",
      "source": [
        "X_pca_manual"
      ],
      "metadata": {
        "colab": {
          "base_uri": "https://localhost:8080/"
        },
        "id": "f1dn9q2_or_b",
        "outputId": "2a61777f-f75c-4dcc-d129-d03cc79fc3f4"
      },
      "execution_count": 14,
      "outputs": [
        {
          "output_type": "execute_result",
          "data": {
            "text/plain": [
              "array([[ 0.78732669, -1.52566106],\n",
              "       [ 0.0884865 ,  0.01193116],\n",
              "       [-0.45028308, -0.66358609],\n",
              "       [-1.94852793,  0.16962775],\n",
              "       [-0.76821945, -0.17861005],\n",
              "       [-0.07429434, -0.50406413],\n",
              "       [-1.9174498 , -0.13567241],\n",
              "       [ 0.16491203, -0.61977895],\n",
              "       [ 0.20649044,  0.52560141],\n",
              "       [-1.32066918, -0.81488924],\n",
              "       [ 0.19263313,  0.51794657],\n",
              "       [ 1.16372542, -1.78101572],\n",
              "       [-0.4605796 , -0.59070007],\n",
              "       [ 1.12039971,  1.61818917],\n",
              "       [ 2.17031998,  0.06788299],\n",
              "       [ 0.21525502,  1.27130177],\n",
              "       [ 0.47923996, -0.28769873],\n",
              "       [-1.37043177,  1.14284249],\n",
              "       [ 0.13041038,  1.32886076],\n",
              "       [ 1.59125588,  0.44749238]])"
            ]
          },
          "metadata": {},
          "execution_count": 14
        }
      ]
    },
    {
      "cell_type": "markdown",
      "source": [
        "# 공분산을 구하는 과정\n",
        "1. 각 변수의 평균을 계산\n",
        "mean_X = sum(X) / n\n",
        "mean_Y = sum(Y) / n\n",
        "\n",
        "여기서 X와 Y는 두 변수를 나타내는 벡터이고, n은 데이터 포인트의 개수입니다.\n",
        "\n",
        "\n",
        "2. 각 데이터 포인트에서 변수의 평균을 뺀 값을 계산\n",
        "X_diff = X - mean_X\n",
        "Y_diff = Y - mean_Y\n",
        "\n",
        "3. 두 변수의 차이 값을 곱하고, 이를 모든 데이터 포인트에 대해 합산합니다.\n",
        "\n",
        "sum_of_product = sum(X_diff * Y_diff)\n",
        "\n",
        "4. 공분산을 구하기 위해 합산한 값을 데이터 포인트의 개수에서 1을 뺀 값으로 나눕니다.\n",
        "covariance = sum_of_product / (n - 1)"
      ],
      "metadata": {
        "id": "bLLad4SLot0N"
      }
    },
    {
      "cell_type": "code",
      "source": [],
      "metadata": {
        "id": "7eqgxahCrpDa"
      },
      "execution_count": null,
      "outputs": []
    }
  ]
}