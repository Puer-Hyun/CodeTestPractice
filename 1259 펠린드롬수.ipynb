{
 "cells": [
  {
   "cell_type": "code",
   "execution_count": 2,
   "id": "e490ae63",
   "metadata": {},
   "outputs": [
    {
     "name": "stdout",
     "output_type": "stream",
     "text": [
      "yes\n",
      "no\n",
      "yes\n"
     ]
    }
   ],
   "source": [
    "def isPalindrome(x):\n",
    "    x = x \n",
    "    y = x[::-1]\n",
    "    if int(x)==int(y):\n",
    "        print('yes')\n",
    "    else:\n",
    "        print('no')\n",
    "\n",
    "isPalindrome('121')\n",
    "isPalindrome('1231')\n",
    "isPalindrome('12421')"
   ]
  },
  {
   "cell_type": "code",
   "execution_count": null,
   "id": "4ba60166",
   "metadata": {},
   "outputs": [],
   "source": [
    "# 실제 코드\n",
    "import sys\n",
    "input = sys.stdin.readline\n",
    "\n",
    "def isPalindrome(x):\n",
    "    x = x \n",
    "    y = x[::-1]\n",
    "    if int(x)==int(y):\n",
    "        print('yes')\n",
    "    else:\n",
    "        print('no')\n",
    "\n",
    "while True:\n",
    "    x = input().strip()\n",
    "    if x == 0 :\n",
    "        break\n",
    "    else:\n",
    "        isPalindrome(x)"
   ]
  }
 ],
 "metadata": {
  "kernelspec": {
   "display_name": "Python 3 (ipykernel)",
   "language": "python",
   "name": "python3"
  },
  "language_info": {
   "codemirror_mode": {
    "name": "ipython",
    "version": 3
   },
   "file_extension": ".py",
   "mimetype": "text/x-python",
   "name": "python",
   "nbconvert_exporter": "python",
   "pygments_lexer": "ipython3",
   "version": "3.9.13"
  }
 },
 "nbformat": 4,
 "nbformat_minor": 5
}
